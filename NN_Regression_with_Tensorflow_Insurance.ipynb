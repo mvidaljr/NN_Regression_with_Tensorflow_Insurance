{
 "cells": [
  {
   "cell_type": "code",
   "execution_count": 1,
   "metadata": {
    "colab": {
     "base_uri": "https://localhost:8080/"
    },
    "id": "Zt9O4kO0IKSR",
    "outputId": "15988f32-86f8-4822-a999-ab6306f7fe42"
   },
   "outputs": [
    {
     "name": "stdout",
     "output_type": "stream",
     "text": [
      "2.11.0\n"
     ]
    }
   ],
   "source": [
    "import tensorflow as tf\n",
    "print (tf.__version__)"
   ]
  },
  {
   "cell_type": "code",
   "execution_count": 2,
   "metadata": {
    "id": "rMWbJvOXKIer"
   },
   "outputs": [],
   "source": [
    "import tensorflow as tf\n",
    "import pandas as pd\n",
    "import matplotlib.pyplot as plt\n",
    "import seaborn as sns"
   ]
  },
  {
   "cell_type": "code",
   "execution_count": 3,
   "metadata": {
    "id": "9GTqOf4yKIbD"
   },
   "outputs": [],
   "source": [
    "insurance = pd.read_csv(\"https://raw.githubusercontent.com/stedy/Machine-Learning-with-R-datasets/master/insurance.csv\")"
   ]
  },
  {
   "cell_type": "code",
   "execution_count": 4,
   "metadata": {
    "colab": {
     "base_uri": "https://localhost:8080/",
     "height": 206
    },
    "id": "ICxVlcKWKIXD",
    "outputId": "821ab57d-f868-4458-f3d9-db8e1ba588c9"
   },
   "outputs": [
    {
     "data": {
      "text/html": [
       "<div>\n",
       "<style scoped>\n",
       "    .dataframe tbody tr th:only-of-type {\n",
       "        vertical-align: middle;\n",
       "    }\n",
       "\n",
       "    .dataframe tbody tr th {\n",
       "        vertical-align: top;\n",
       "    }\n",
       "\n",
       "    .dataframe thead th {\n",
       "        text-align: right;\n",
       "    }\n",
       "</style>\n",
       "<table border=\"1\" class=\"dataframe\">\n",
       "  <thead>\n",
       "    <tr style=\"text-align: right;\">\n",
       "      <th></th>\n",
       "      <th>age</th>\n",
       "      <th>sex</th>\n",
       "      <th>bmi</th>\n",
       "      <th>children</th>\n",
       "      <th>smoker</th>\n",
       "      <th>region</th>\n",
       "      <th>charges</th>\n",
       "    </tr>\n",
       "  </thead>\n",
       "  <tbody>\n",
       "    <tr>\n",
       "      <th>0</th>\n",
       "      <td>19</td>\n",
       "      <td>female</td>\n",
       "      <td>27.900</td>\n",
       "      <td>0</td>\n",
       "      <td>yes</td>\n",
       "      <td>southwest</td>\n",
       "      <td>16884.92400</td>\n",
       "    </tr>\n",
       "    <tr>\n",
       "      <th>1</th>\n",
       "      <td>18</td>\n",
       "      <td>male</td>\n",
       "      <td>33.770</td>\n",
       "      <td>1</td>\n",
       "      <td>no</td>\n",
       "      <td>southeast</td>\n",
       "      <td>1725.55230</td>\n",
       "    </tr>\n",
       "    <tr>\n",
       "      <th>2</th>\n",
       "      <td>28</td>\n",
       "      <td>male</td>\n",
       "      <td>33.000</td>\n",
       "      <td>3</td>\n",
       "      <td>no</td>\n",
       "      <td>southeast</td>\n",
       "      <td>4449.46200</td>\n",
       "    </tr>\n",
       "    <tr>\n",
       "      <th>3</th>\n",
       "      <td>33</td>\n",
       "      <td>male</td>\n",
       "      <td>22.705</td>\n",
       "      <td>0</td>\n",
       "      <td>no</td>\n",
       "      <td>northwest</td>\n",
       "      <td>21984.47061</td>\n",
       "    </tr>\n",
       "    <tr>\n",
       "      <th>4</th>\n",
       "      <td>32</td>\n",
       "      <td>male</td>\n",
       "      <td>28.880</td>\n",
       "      <td>0</td>\n",
       "      <td>no</td>\n",
       "      <td>northwest</td>\n",
       "      <td>3866.85520</td>\n",
       "    </tr>\n",
       "  </tbody>\n",
       "</table>\n",
       "</div>"
      ],
      "text/plain": [
       "   age     sex     bmi  children smoker     region      charges\n",
       "0   19  female  27.900         0    yes  southwest  16884.92400\n",
       "1   18    male  33.770         1     no  southeast   1725.55230\n",
       "2   28    male  33.000         3     no  southeast   4449.46200\n",
       "3   33    male  22.705         0     no  northwest  21984.47061\n",
       "4   32    male  28.880         0     no  northwest   3866.85520"
      ]
     },
     "execution_count": 4,
     "metadata": {},
     "output_type": "execute_result"
    }
   ],
   "source": [
    "insurance.head()"
   ]
  },
  {
   "cell_type": "code",
   "execution_count": 5,
   "metadata": {
    "colab": {
     "base_uri": "https://localhost:8080/",
     "height": 206
    },
    "id": "N6h9ey2OKIT7",
    "outputId": "8d71d8ab-9b52-41a7-d9e1-21a329ce21f8"
   },
   "outputs": [
    {
     "data": {
      "text/html": [
       "<div>\n",
       "<style scoped>\n",
       "    .dataframe tbody tr th:only-of-type {\n",
       "        vertical-align: middle;\n",
       "    }\n",
       "\n",
       "    .dataframe tbody tr th {\n",
       "        vertical-align: top;\n",
       "    }\n",
       "\n",
       "    .dataframe thead th {\n",
       "        text-align: right;\n",
       "    }\n",
       "</style>\n",
       "<table border=\"1\" class=\"dataframe\">\n",
       "  <thead>\n",
       "    <tr style=\"text-align: right;\">\n",
       "      <th></th>\n",
       "      <th>age</th>\n",
       "      <th>bmi</th>\n",
       "      <th>children</th>\n",
       "      <th>charges</th>\n",
       "      <th>sex_female</th>\n",
       "      <th>sex_male</th>\n",
       "      <th>smoker_no</th>\n",
       "      <th>smoker_yes</th>\n",
       "      <th>region_northeast</th>\n",
       "      <th>region_northwest</th>\n",
       "      <th>region_southeast</th>\n",
       "      <th>region_southwest</th>\n",
       "    </tr>\n",
       "  </thead>\n",
       "  <tbody>\n",
       "    <tr>\n",
       "      <th>0</th>\n",
       "      <td>19</td>\n",
       "      <td>27.900</td>\n",
       "      <td>0</td>\n",
       "      <td>16884.92400</td>\n",
       "      <td>1</td>\n",
       "      <td>0</td>\n",
       "      <td>0</td>\n",
       "      <td>1</td>\n",
       "      <td>0</td>\n",
       "      <td>0</td>\n",
       "      <td>0</td>\n",
       "      <td>1</td>\n",
       "    </tr>\n",
       "    <tr>\n",
       "      <th>1</th>\n",
       "      <td>18</td>\n",
       "      <td>33.770</td>\n",
       "      <td>1</td>\n",
       "      <td>1725.55230</td>\n",
       "      <td>0</td>\n",
       "      <td>1</td>\n",
       "      <td>1</td>\n",
       "      <td>0</td>\n",
       "      <td>0</td>\n",
       "      <td>0</td>\n",
       "      <td>1</td>\n",
       "      <td>0</td>\n",
       "    </tr>\n",
       "    <tr>\n",
       "      <th>2</th>\n",
       "      <td>28</td>\n",
       "      <td>33.000</td>\n",
       "      <td>3</td>\n",
       "      <td>4449.46200</td>\n",
       "      <td>0</td>\n",
       "      <td>1</td>\n",
       "      <td>1</td>\n",
       "      <td>0</td>\n",
       "      <td>0</td>\n",
       "      <td>0</td>\n",
       "      <td>1</td>\n",
       "      <td>0</td>\n",
       "    </tr>\n",
       "    <tr>\n",
       "      <th>3</th>\n",
       "      <td>33</td>\n",
       "      <td>22.705</td>\n",
       "      <td>0</td>\n",
       "      <td>21984.47061</td>\n",
       "      <td>0</td>\n",
       "      <td>1</td>\n",
       "      <td>1</td>\n",
       "      <td>0</td>\n",
       "      <td>0</td>\n",
       "      <td>1</td>\n",
       "      <td>0</td>\n",
       "      <td>0</td>\n",
       "    </tr>\n",
       "    <tr>\n",
       "      <th>4</th>\n",
       "      <td>32</td>\n",
       "      <td>28.880</td>\n",
       "      <td>0</td>\n",
       "      <td>3866.85520</td>\n",
       "      <td>0</td>\n",
       "      <td>1</td>\n",
       "      <td>1</td>\n",
       "      <td>0</td>\n",
       "      <td>0</td>\n",
       "      <td>1</td>\n",
       "      <td>0</td>\n",
       "      <td>0</td>\n",
       "    </tr>\n",
       "  </tbody>\n",
       "</table>\n",
       "</div>"
      ],
      "text/plain": [
       "   age     bmi  children      charges  sex_female  sex_male  smoker_no  \\\n",
       "0   19  27.900         0  16884.92400           1         0          0   \n",
       "1   18  33.770         1   1725.55230           0         1          1   \n",
       "2   28  33.000         3   4449.46200           0         1          1   \n",
       "3   33  22.705         0  21984.47061           0         1          1   \n",
       "4   32  28.880         0   3866.85520           0         1          1   \n",
       "\n",
       "   smoker_yes  region_northeast  region_northwest  region_southeast  \\\n",
       "0           1                 0                 0                 0   \n",
       "1           0                 0                 0                 1   \n",
       "2           0                 0                 0                 1   \n",
       "3           0                 0                 1                 0   \n",
       "4           0                 0                 1                 0   \n",
       "\n",
       "   region_southwest  \n",
       "0                 1  \n",
       "1                 0  \n",
       "2                 0  \n",
       "3                 0  \n",
       "4                 0  "
      ]
     },
     "execution_count": 5,
     "metadata": {},
     "output_type": "execute_result"
    }
   ],
   "source": [
    "insurance_one_hot = pd.get_dummies(insurance)\n",
    "insurance_one_hot.head()"
   ]
  },
  {
   "cell_type": "code",
   "execution_count": 6,
   "metadata": {
    "id": "ydLmDCbeKIQj"
   },
   "outputs": [],
   "source": [
    "X = insurance_one_hot.drop(\"charges\", axis=1)\n",
    "y = insurance_one_hot[\"charges\"]"
   ]
  },
  {
   "cell_type": "code",
   "execution_count": 7,
   "metadata": {
    "id": "q3ImPyA6KINb"
   },
   "outputs": [],
   "source": [
    "from sklearn.model_selection import train_test_split\n",
    "X_train, X_test, y_train, y_test = train_test_split(X, \n",
    "                                                    y, \n",
    "                                                    test_size=0.2, \n",
    "                                                    random_state=42) "
   ]
  },
  {
   "cell_type": "code",
   "execution_count": 8,
   "metadata": {
    "colab": {
     "base_uri": "https://localhost:8080/"
    },
    "id": "WeoX4FEUKIKP",
    "outputId": "0f8a522e-bbc8-422b-d07f-33a248d02e20"
   },
   "outputs": [
    {
     "name": "stdout",
     "output_type": "stream",
     "text": [
      "Epoch 1/100\n",
      "34/34 [==============================] - 1s 2ms/step - loss: 8718.9697 - mae: 8718.9697\n",
      "Epoch 2/100\n",
      "34/34 [==============================] - 0s 1ms/step - loss: 7872.0596 - mae: 7872.0596\n",
      "Epoch 3/100\n",
      "34/34 [==============================] - 0s 1ms/step - loss: 7584.5610 - mae: 7584.5610\n",
      "Epoch 4/100\n",
      "34/34 [==============================] - 0s 1ms/step - loss: 7568.5693 - mae: 7568.5693\n",
      "Epoch 5/100\n",
      "34/34 [==============================] - 0s 2ms/step - loss: 7668.0962 - mae: 7668.0962\n",
      "Epoch 6/100\n",
      "34/34 [==============================] - 0s 1ms/step - loss: 7643.4438 - mae: 7643.4438\n",
      "Epoch 7/100\n",
      "34/34 [==============================] - 0s 1ms/step - loss: 7571.9453 - mae: 7571.9453\n",
      "Epoch 8/100\n",
      "34/34 [==============================] - 0s 1ms/step - loss: 7757.9609 - mae: 7757.9609\n",
      "Epoch 9/100\n",
      "34/34 [==============================] - 0s 2ms/step - loss: 7604.2661 - mae: 7604.2661\n",
      "Epoch 10/100\n",
      "34/34 [==============================] - 0s 1ms/step - loss: 7699.2896 - mae: 7699.2896\n",
      "Epoch 11/100\n",
      "34/34 [==============================] - 0s 1ms/step - loss: 7455.2422 - mae: 7455.2422\n",
      "Epoch 12/100\n",
      "34/34 [==============================] - 0s 1ms/step - loss: 7708.8994 - mae: 7708.8994\n",
      "Epoch 13/100\n",
      "34/34 [==============================] - 0s 1ms/step - loss: 7678.3003 - mae: 7678.3003\n",
      "Epoch 14/100\n",
      "34/34 [==============================] - 0s 1ms/step - loss: 7706.6646 - mae: 7706.6646\n",
      "Epoch 15/100\n",
      "34/34 [==============================] - 0s 1ms/step - loss: 7553.5103 - mae: 7553.5103\n",
      "Epoch 16/100\n",
      "34/34 [==============================] - 0s 1ms/step - loss: 7661.9941 - mae: 7661.9941\n",
      "Epoch 17/100\n",
      "34/34 [==============================] - 0s 1ms/step - loss: 7459.5898 - mae: 7459.5898\n",
      "Epoch 18/100\n",
      "34/34 [==============================] - 0s 1ms/step - loss: 7674.0474 - mae: 7674.0474\n",
      "Epoch 19/100\n",
      "34/34 [==============================] - 0s 1ms/step - loss: 7617.3218 - mae: 7617.3218\n",
      "Epoch 20/100\n",
      "34/34 [==============================] - 0s 1ms/step - loss: 7915.8877 - mae: 7915.8877\n",
      "Epoch 21/100\n",
      "34/34 [==============================] - 0s 1ms/step - loss: 7535.1113 - mae: 7535.1113\n",
      "Epoch 22/100\n",
      "34/34 [==============================] - 0s 1ms/step - loss: 7869.6934 - mae: 7869.6934\n",
      "Epoch 23/100\n",
      "34/34 [==============================] - 0s 1ms/step - loss: 7566.2520 - mae: 7566.2520\n",
      "Epoch 24/100\n",
      "34/34 [==============================] - 0s 1ms/step - loss: 7573.0298 - mae: 7573.0298\n",
      "Epoch 25/100\n",
      "34/34 [==============================] - 0s 1ms/step - loss: 7611.7896 - mae: 7611.7896\n",
      "Epoch 26/100\n",
      "34/34 [==============================] - 0s 1ms/step - loss: 7631.8472 - mae: 7631.8472\n",
      "Epoch 27/100\n",
      "34/34 [==============================] - 0s 1ms/step - loss: 7394.4414 - mae: 7394.4414\n",
      "Epoch 28/100\n",
      "34/34 [==============================] - 0s 1ms/step - loss: 7504.7886 - mae: 7504.7886\n",
      "Epoch 29/100\n",
      "34/34 [==============================] - 0s 1ms/step - loss: 7678.3496 - mae: 7678.3496\n",
      "Epoch 30/100\n",
      "34/34 [==============================] - 0s 1ms/step - loss: 7610.3252 - mae: 7610.3252\n",
      "Epoch 31/100\n",
      "34/34 [==============================] - 0s 1ms/step - loss: 7689.1587 - mae: 7689.1587\n",
      "Epoch 32/100\n",
      "34/34 [==============================] - 0s 2ms/step - loss: 7453.4399 - mae: 7453.4399\n",
      "Epoch 33/100\n",
      "34/34 [==============================] - 0s 1ms/step - loss: 7440.6069 - mae: 7440.6069\n",
      "Epoch 34/100\n",
      "34/34 [==============================] - 0s 1ms/step - loss: 7442.4185 - mae: 7442.4185\n",
      "Epoch 35/100\n",
      "34/34 [==============================] - 0s 1ms/step - loss: 7615.8501 - mae: 7615.8501\n",
      "Epoch 36/100\n",
      "34/34 [==============================] - 0s 1ms/step - loss: 7595.7495 - mae: 7595.7495\n",
      "Epoch 37/100\n",
      "34/34 [==============================] - 0s 1ms/step - loss: 7545.7500 - mae: 7545.7500\n",
      "Epoch 38/100\n",
      "34/34 [==============================] - 0s 1ms/step - loss: 7325.1064 - mae: 7325.1064\n",
      "Epoch 39/100\n",
      "34/34 [==============================] - 0s 1ms/step - loss: 7529.6328 - mae: 7529.6328\n",
      "Epoch 40/100\n",
      "34/34 [==============================] - 0s 1ms/step - loss: 7305.8140 - mae: 7305.8140\n",
      "Epoch 41/100\n",
      "34/34 [==============================] - 0s 1ms/step - loss: 7704.3018 - mae: 7704.3018\n",
      "Epoch 42/100\n",
      "34/34 [==============================] - 0s 1ms/step - loss: 7394.7422 - mae: 7394.7422\n",
      "Epoch 43/100\n",
      "34/34 [==============================] - 0s 1ms/step - loss: 7621.6055 - mae: 7621.6055\n",
      "Epoch 44/100\n",
      "34/34 [==============================] - 0s 1ms/step - loss: 7496.4219 - mae: 7496.4219\n",
      "Epoch 45/100\n",
      "34/34 [==============================] - 0s 1ms/step - loss: 7433.3701 - mae: 7433.3701\n",
      "Epoch 46/100\n",
      "34/34 [==============================] - 0s 2ms/step - loss: 7421.2915 - mae: 7421.2915\n",
      "Epoch 47/100\n",
      "34/34 [==============================] - 0s 1ms/step - loss: 7588.1665 - mae: 7588.1665\n",
      "Epoch 48/100\n",
      "34/34 [==============================] - 0s 1ms/step - loss: 7434.8428 - mae: 7434.8428\n",
      "Epoch 49/100\n",
      "34/34 [==============================] - 0s 1ms/step - loss: 7530.5596 - mae: 7530.5596\n",
      "Epoch 50/100\n",
      "34/34 [==============================] - 0s 1ms/step - loss: 7475.3774 - mae: 7475.3774\n",
      "Epoch 51/100\n",
      "34/34 [==============================] - 0s 1ms/step - loss: 7291.0205 - mae: 7291.0205\n",
      "Epoch 52/100\n",
      "34/34 [==============================] - 0s 1ms/step - loss: 7521.4238 - mae: 7521.4238\n",
      "Epoch 53/100\n",
      "34/34 [==============================] - 0s 1ms/step - loss: 7575.8472 - mae: 7575.8472\n",
      "Epoch 54/100\n",
      "34/34 [==============================] - 0s 1ms/step - loss: 7282.7832 - mae: 7282.7832\n",
      "Epoch 55/100\n",
      "34/34 [==============================] - 0s 1ms/step - loss: 7199.7759 - mae: 7199.7759\n",
      "Epoch 56/100\n",
      "34/34 [==============================] - 0s 1ms/step - loss: 7377.6577 - mae: 7377.6577\n",
      "Epoch 57/100\n",
      "34/34 [==============================] - 0s 2ms/step - loss: 7340.6479 - mae: 7340.6479\n",
      "Epoch 58/100\n",
      "34/34 [==============================] - 0s 1ms/step - loss: 7505.2134 - mae: 7505.2134\n",
      "Epoch 59/100\n",
      "34/34 [==============================] - 0s 1ms/step - loss: 7702.6030 - mae: 7702.6030\n",
      "Epoch 60/100\n",
      "34/34 [==============================] - 0s 2ms/step - loss: 7298.1919 - mae: 7298.1919\n",
      "Epoch 61/100\n",
      "34/34 [==============================] - 0s 2ms/step - loss: 7321.1128 - mae: 7321.1128\n",
      "Epoch 62/100\n",
      "34/34 [==============================] - 0s 1ms/step - loss: 7361.5747 - mae: 7361.5747\n",
      "Epoch 63/100\n",
      "34/34 [==============================] - 0s 1ms/step - loss: 7361.7056 - mae: 7361.7056\n",
      "Epoch 64/100\n",
      "34/34 [==============================] - 0s 1ms/step - loss: 7538.0142 - mae: 7538.0142\n",
      "Epoch 65/100\n",
      "34/34 [==============================] - 0s 1ms/step - loss: 7387.3848 - mae: 7387.3848\n",
      "Epoch 66/100\n",
      "34/34 [==============================] - 0s 1ms/step - loss: 7206.4521 - mae: 7206.4521\n",
      "Epoch 67/100\n",
      "34/34 [==============================] - 0s 1ms/step - loss: 7312.6851 - mae: 7312.6851\n",
      "Epoch 68/100\n",
      "34/34 [==============================] - 0s 1ms/step - loss: 7450.3813 - mae: 7450.3813\n",
      "Epoch 69/100\n",
      "34/34 [==============================] - 0s 1ms/step - loss: 7558.6265 - mae: 7558.6265\n",
      "Epoch 70/100\n",
      "34/34 [==============================] - 0s 1ms/step - loss: 7658.7852 - mae: 7658.7852\n",
      "Epoch 71/100\n",
      "34/34 [==============================] - 0s 1ms/step - loss: 7281.3008 - mae: 7281.3008\n",
      "Epoch 72/100\n",
      "34/34 [==============================] - 0s 1ms/step - loss: 7377.4644 - mae: 7377.4644\n",
      "Epoch 73/100\n",
      "34/34 [==============================] - 0s 1ms/step - loss: 7173.9795 - mae: 7173.9795\n",
      "Epoch 74/100\n",
      "34/34 [==============================] - 0s 1ms/step - loss: 7358.6436 - mae: 7358.6436\n",
      "Epoch 75/100\n",
      "34/34 [==============================] - 0s 1ms/step - loss: 7345.5923 - mae: 7345.5923\n",
      "Epoch 76/100\n",
      "34/34 [==============================] - 0s 1ms/step - loss: 7076.2666 - mae: 7076.2666\n",
      "Epoch 77/100\n",
      "34/34 [==============================] - 0s 1ms/step - loss: 7391.5127 - mae: 7391.5127\n",
      "Epoch 78/100\n",
      "34/34 [==============================] - 0s 1ms/step - loss: 7285.1187 - mae: 7285.1187\n",
      "Epoch 79/100\n",
      "34/34 [==============================] - 0s 1ms/step - loss: 7585.5034 - mae: 7585.5034\n",
      "Epoch 80/100\n",
      "34/34 [==============================] - 0s 1ms/step - loss: 7360.0044 - mae: 7360.0044\n",
      "Epoch 81/100\n",
      "34/34 [==============================] - 0s 1ms/step - loss: 7197.7427 - mae: 7197.7427\n",
      "Epoch 82/100\n"
     ]
    },
    {
     "name": "stdout",
     "output_type": "stream",
     "text": [
      "34/34 [==============================] - 0s 1ms/step - loss: 7162.1509 - mae: 7162.1509\n",
      "Epoch 83/100\n",
      "34/34 [==============================] - 0s 1ms/step - loss: 7478.5474 - mae: 7478.5474\n",
      "Epoch 84/100\n",
      "34/34 [==============================] - 0s 1ms/step - loss: 7404.6338 - mae: 7404.6338\n",
      "Epoch 85/100\n",
      "34/34 [==============================] - 0s 1ms/step - loss: 7557.0127 - mae: 7557.0127\n",
      "Epoch 86/100\n",
      "34/34 [==============================] - 0s 1ms/step - loss: 7497.9688 - mae: 7497.9688\n",
      "Epoch 87/100\n",
      "34/34 [==============================] - 0s 1ms/step - loss: 7197.6357 - mae: 7197.6357\n",
      "Epoch 88/100\n",
      "34/34 [==============================] - 0s 1ms/step - loss: 7112.9048 - mae: 7112.9048\n",
      "Epoch 89/100\n",
      "34/34 [==============================] - 0s 1ms/step - loss: 7540.6572 - mae: 7540.6572\n",
      "Epoch 90/100\n",
      "34/34 [==============================] - 0s 1ms/step - loss: 6968.7876 - mae: 6968.7876\n",
      "Epoch 91/100\n",
      "34/34 [==============================] - 0s 1ms/step - loss: 7203.7407 - mae: 7203.7407\n",
      "Epoch 92/100\n",
      "34/34 [==============================] - 0s 1ms/step - loss: 7291.6191 - mae: 7291.6191\n",
      "Epoch 93/100\n",
      "34/34 [==============================] - 0s 1ms/step - loss: 7373.3408 - mae: 7373.3408\n",
      "Epoch 94/100\n",
      "34/34 [==============================] - 0s 1ms/step - loss: 7283.7681 - mae: 7283.7681\n",
      "Epoch 95/100\n",
      "34/34 [==============================] - 0s 1ms/step - loss: 7162.7090 - mae: 7162.7090\n",
      "Epoch 96/100\n",
      "34/34 [==============================] - 0s 1ms/step - loss: 7276.4209 - mae: 7276.4209\n",
      "Epoch 97/100\n",
      "34/34 [==============================] - 0s 1ms/step - loss: 7179.9800 - mae: 7179.9800\n",
      "Epoch 98/100\n",
      "34/34 [==============================] - 0s 1ms/step - loss: 7426.4155 - mae: 7426.4155\n",
      "Epoch 99/100\n",
      "34/34 [==============================] - 0s 1ms/step - loss: 7367.2329 - mae: 7367.2329\n",
      "Epoch 100/100\n",
      "34/34 [==============================] - 0s 1ms/step - loss: 7230.8315 - mae: 7230.8315\n"
     ]
    },
    {
     "data": {
      "text/plain": [
       "<keras.callbacks.History at 0x2353351bfd0>"
      ]
     },
     "execution_count": 8,
     "metadata": {},
     "output_type": "execute_result"
    }
   ],
   "source": [
    "tf.random.set_seed(42)\n",
    "\n",
    "insurance_model = tf.keras.Sequential([\n",
    "    tf.keras.layers.Dense(1),\n",
    "    tf.keras.layers.Dense(1)\n",
    "])\n",
    "\n",
    "insurance_model.compile(loss = tf.keras.losses.mae,\n",
    "                        optimizer = tf.keras.optimizers.SGD(),\n",
    "                        metrics=['mae'])\n",
    "\n",
    "insurance_model.fit(X_train, y_train, epochs=100)"
   ]
  },
  {
   "cell_type": "code",
   "execution_count": 9,
   "metadata": {
    "colab": {
     "base_uri": "https://localhost:8080/"
    },
    "id": "_R2BUCRxKIHL",
    "outputId": "2f7600c8-3446-4400-d244-622211f6fafe"
   },
   "outputs": [
    {
     "name": "stdout",
     "output_type": "stream",
     "text": [
      "9/9 [==============================] - 0s 2ms/step - loss: 8536.4570 - mae: 8536.4570\n"
     ]
    },
    {
     "data": {
      "text/plain": [
       "[8536.45703125, 8536.45703125]"
      ]
     },
     "execution_count": 9,
     "metadata": {},
     "output_type": "execute_result"
    }
   ],
   "source": [
    "insurance_model.evaluate(X_test, y_test)"
   ]
  },
  {
   "cell_type": "code",
   "execution_count": 10,
   "metadata": {
    "id": "4JZ4vu-IKTLC"
   },
   "outputs": [],
   "source": [
    "tf.random.set_seed(42)\n",
    "\n",
    "insurance_model_2 = tf.keras.Sequential([\n",
    "    tf.keras.layers.Dense(100),\n",
    "    tf.keras.layers.Dense(10),\n",
    "    tf.keras.layers.Dense(1)\n",
    "])\n",
    "\n",
    "insurance_model_2.compile(loss = tf.keras.losses.mae,\n",
    "                          optimizer = tf.keras.optimizers.Adam(),\n",
    "                          metrics=[\"mae\"])\n",
    "\n",
    "history = insurance_model_2.fit(X_train, y_train, epochs=100, verbose=0)"
   ]
  },
  {
   "cell_type": "code",
   "execution_count": 11,
   "metadata": {
    "colab": {
     "base_uri": "https://localhost:8080/"
    },
    "id": "PEfxUSUBKTIL",
    "outputId": "654d9e6d-2ed5-4b7a-9a8e-3d638496b4de"
   },
   "outputs": [
    {
     "name": "stdout",
     "output_type": "stream",
     "text": [
      "9/9 [==============================] - 0s 2ms/step - loss: 4860.3794 - mae: 4860.3794\n"
     ]
    },
    {
     "data": {
      "text/plain": [
       "[4860.37939453125, 4860.37939453125]"
      ]
     },
     "execution_count": 11,
     "metadata": {},
     "output_type": "execute_result"
    }
   ],
   "source": [
    "insurance_model_2.evaluate(X_test,y_test)"
   ]
  },
  {
   "cell_type": "code",
   "execution_count": 12,
   "metadata": {
    "colab": {
     "base_uri": "https://localhost:8080/",
     "height": 296
    },
    "id": "9DXrteB6KTEy",
    "outputId": "21eb0338-0081-4238-e236-9c2d045e4ed4"
   },
   "outputs": [
    {
     "data": {
      "text/plain": [
       "Text(0.5, 0, 'Epochs')"
      ]
     },
     "execution_count": 12,
     "metadata": {},
     "output_type": "execute_result"
    },
    {
     "data": {
      "image/png": "[encoded data removed]",
      "text/plain": [
       "<Figure size 432x288 with 1 Axes>"
      ]
     },
     "metadata": {
      "needs_background": "light"
     },
     "output_type": "display_data"
    }
   ],
   "source": [
    "pd.DataFrame(history.history).plot()\n",
    "plt.ylabel(\"Loss\")\n",
    "plt.xlabel(\"Epochs\")"
   ]
  },
  {
   "cell_type": "code",
   "execution_count": 13,
   "metadata": {
    "id": "F5L5eT_FKTBz"
   },
   "outputs": [],
   "source": [
    "history_2 = insurance_model_2.fit(X_train, y_train, epochs=100, verbose=0)"
   ]
  },
  {
   "cell_type": "code",
   "execution_count": 14,
   "metadata": {
    "colab": {
     "base_uri": "https://localhost:8080/",
     "height": 296
    },
    "id": "61JH9k_pKIEN",
    "outputId": "6cabe4e5-c1ed-4343-fc26-d02827fae820"
   },
   "outputs": [
    {
     "data": {
      "text/plain": [
       "Text(0.5, 0, 'Epochs')"
      ]
     },
     "execution_count": 14,
     "metadata": {},
     "output_type": "execute_result"
    },
    {
     "data": {
      "image/png": "[encoded data removed]",
      "text/plain": [
       "<Figure size 432x288 with 1 Axes>"
      ]
     },
     "metadata": {
      "needs_background": "light"
     },
     "output_type": "display_data"
    }
   ],
   "source": [
    "pd.DataFrame(history_2.history).plot()\n",
    "plt.ylabel(\"Loss\")\n",
    "plt.xlabel(\"Epochs\")"
   ]
  },
  {
   "cell_type": "code",
   "execution_count": 15,
   "metadata": {
    "id": "_uARBKCBIsg0"
   },
   "outputs": [],
   "source": [
    "import pandas as pd\n",
    "import matplotlib.pyplot as plt\n",
    "import tensorflow as tf\n",
    "\n",
    "# Read in the insurance dataset\n",
    "insurance = pd.read_csv(\"https://raw.githubusercontent.com/stedy/Machine-Learning-with-R-datasets/master/insurance.csv\")"
   ]
  },
  {
   "cell_type": "code",
   "execution_count": 16,
   "metadata": {
    "colab": {
     "base_uri": "https://localhost:8080/",
     "height": 206
    },
    "id": "P1V-bAS2IseO",
    "outputId": "44585adb-c729-40e8-ed63-fc2cdd26363d"
   },
   "outputs": [
    {
     "data": {
      "text/html": [
       "<div>\n",
       "<style scoped>\n",
       "    .dataframe tbody tr th:only-of-type {\n",
       "        vertical-align: middle;\n",
       "    }\n",
       "\n",
       "    .dataframe tbody tr th {\n",
       "        vertical-align: top;\n",
       "    }\n",
       "\n",
       "    .dataframe thead th {\n",
       "        text-align: right;\n",
       "    }\n",
       "</style>\n",
       "<table border=\"1\" class=\"dataframe\">\n",
       "  <thead>\n",
       "    <tr style=\"text-align: right;\">\n",
       "      <th></th>\n",
       "      <th>age</th>\n",
       "      <th>sex</th>\n",
       "      <th>bmi</th>\n",
       "      <th>children</th>\n",
       "      <th>smoker</th>\n",
       "      <th>region</th>\n",
       "      <th>charges</th>\n",
       "    </tr>\n",
       "  </thead>\n",
       "  <tbody>\n",
       "    <tr>\n",
       "      <th>0</th>\n",
       "      <td>19</td>\n",
       "      <td>female</td>\n",
       "      <td>27.900</td>\n",
       "      <td>0</td>\n",
       "      <td>yes</td>\n",
       "      <td>southwest</td>\n",
       "      <td>16884.92400</td>\n",
       "    </tr>\n",
       "    <tr>\n",
       "      <th>1</th>\n",
       "      <td>18</td>\n",
       "      <td>male</td>\n",
       "      <td>33.770</td>\n",
       "      <td>1</td>\n",
       "      <td>no</td>\n",
       "      <td>southeast</td>\n",
       "      <td>1725.55230</td>\n",
       "    </tr>\n",
       "    <tr>\n",
       "      <th>2</th>\n",
       "      <td>28</td>\n",
       "      <td>male</td>\n",
       "      <td>33.000</td>\n",
       "      <td>3</td>\n",
       "      <td>no</td>\n",
       "      <td>southeast</td>\n",
       "      <td>4449.46200</td>\n",
       "    </tr>\n",
       "    <tr>\n",
       "      <th>3</th>\n",
       "      <td>33</td>\n",
       "      <td>male</td>\n",
       "      <td>22.705</td>\n",
       "      <td>0</td>\n",
       "      <td>no</td>\n",
       "      <td>northwest</td>\n",
       "      <td>21984.47061</td>\n",
       "    </tr>\n",
       "    <tr>\n",
       "      <th>4</th>\n",
       "      <td>32</td>\n",
       "      <td>male</td>\n",
       "      <td>28.880</td>\n",
       "      <td>0</td>\n",
       "      <td>no</td>\n",
       "      <td>northwest</td>\n",
       "      <td>3866.85520</td>\n",
       "    </tr>\n",
       "  </tbody>\n",
       "</table>\n",
       "</div>"
      ],
      "text/plain": [
       "   age     sex     bmi  children smoker     region      charges\n",
       "0   19  female  27.900         0    yes  southwest  16884.92400\n",
       "1   18    male  33.770         1     no  southeast   1725.55230\n",
       "2   28    male  33.000         3     no  southeast   4449.46200\n",
       "3   33    male  22.705         0     no  northwest  21984.47061\n",
       "4   32    male  28.880         0     no  northwest   3866.85520"
      ]
     },
     "execution_count": 16,
     "metadata": {},
     "output_type": "execute_result"
    }
   ],
   "source": [
    "insurance.head()"
   ]
  },
  {
   "cell_type": "code",
   "execution_count": 17,
   "metadata": {
    "id": "6Y_tnWUSIsbO"
   },
   "outputs": [],
   "source": [
    "from sklearn.compose import make_column_transformer\n",
    "from sklearn.preprocessing import MinMaxScaler, OneHotEncoder\n",
    "\n",
    "ct = make_column_transformer(\n",
    "    (MinMaxScaler(),[\"age\",\"bmi\",\"children\"]),\n",
    "    (OneHotEncoder(handle_unknown=\"ignore\"),[\"sex\",\"smoker\",\"region\"])\n",
    ")\n",
    "\n",
    "X = insurance.drop(\"charges\",axis=1)\n",
    "y = insurance[\"charges\"]\n",
    "\n",
    "X_train,X_test,y_train,y_test = train_test_split(X, y, test_size=0.2, random_state=42)\n",
    "\n",
    "ct.fit(X_train)\n",
    "\n",
    "X_train_normal = ct.transform(X_train)\n",
    "X_test_normal = ct.transform(X_test)"
   ]
  },
  {
   "cell_type": "code",
   "execution_count": 18,
   "metadata": {
    "colab": {
     "base_uri": "https://localhost:8080/"
    },
    "id": "l0KPHswKIsYE",
    "outputId": "2a431fd8-79c7-446b-fc13-d585f84583c7"
   },
   "outputs": [
    {
     "data": {
      "text/plain": [
       "(      age     sex     bmi  children smoker     region\n",
       " 560    46  female  19.950         2     no  northwest\n",
       " 1285   47  female  24.320         0     no  northeast\n",
       " 1142   52  female  24.860         0     no  southeast\n",
       " 969    39  female  34.320         5     no  southeast\n",
       " 486    54  female  21.470         3     no  northwest\n",
       " ...   ...     ...     ...       ...    ...        ...\n",
       " 1095   18  female  31.350         4     no  northeast\n",
       " 1130   39  female  23.870         5     no  southeast\n",
       " 1294   58    male  25.175         0     no  northeast\n",
       " 860    37  female  47.600         2    yes  southwest\n",
       " 1126   55    male  29.900         0     no  southwest\n",
       " \n",
       " [1070 rows x 6 columns],\n",
       " array([[0.60869565, 0.10734463, 0.4       , ..., 1.        , 0.        ,\n",
       "         0.        ],\n",
       "        [0.63043478, 0.22491256, 0.        , ..., 0.        , 0.        ,\n",
       "         0.        ],\n",
       "        [0.73913043, 0.23944041, 0.        , ..., 0.        , 1.        ,\n",
       "         0.        ],\n",
       "        ...,\n",
       "        [0.86956522, 0.24791499, 0.        , ..., 0.        , 0.        ,\n",
       "         0.        ],\n",
       "        [0.41304348, 0.85122411, 0.4       , ..., 0.        , 0.        ,\n",
       "         1.        ],\n",
       "        [0.80434783, 0.37503363, 0.        , ..., 0.        , 0.        ,\n",
       "         1.        ]]))"
      ]
     },
     "execution_count": 18,
     "metadata": {},
     "output_type": "execute_result"
    }
   ],
   "source": [
    "X_train, X_train_normal"
   ]
  },
  {
   "cell_type": "code",
   "execution_count": 19,
   "metadata": {
    "colab": {
     "base_uri": "https://localhost:8080/"
    },
    "id": "QQ03NmPTIsU_",
    "outputId": "18482f61-3e5e-48eb-ff4f-5b4e20228c21"
   },
   "outputs": [
    {
     "name": "stdout",
     "output_type": "stream",
     "text": [
      "Model: \"sequential_1\"\n",
      "_________________________________________________________________\n",
      " Layer (type)                Output Shape              Param #   \n",
      "=================================================================\n",
      " dense_2 (Dense)             (None, 100)               1200      \n",
      "                                                                 \n",
      " dense_3 (Dense)             (None, 10)                1010      \n",
      "                                                                 \n",
      " dense_4 (Dense)             (None, 1)                 11        \n",
      "                                                                 \n",
      "=================================================================\n",
      "Total params: 2,221\n",
      "Trainable params: 2,221\n",
      "Non-trainable params: 0\n",
      "_________________________________________________________________\n"
     ]
    }
   ],
   "source": [
    "insurance_model_2.summary()"
   ]
  },
  {
   "cell_type": "code",
   "execution_count": 20,
   "metadata": {
    "id": "ijvF_vo-IsSW"
   },
   "outputs": [],
   "source": [
    "tf.random.set_seed(42)\n",
    "\n",
    "insurance_model_3 = tf.keras.Sequential([\n",
    "    tf.keras.layers.Dense(100),\n",
    "    tf.keras.layers.Dense(10),\n",
    "    tf.keras.layers.Dense(1)\n",
    "])\n",
    "\n",
    "insurance_model_3.compile(loss= tf.keras.losses.mae,\n",
    "                          optimizer= tf.keras.optimizers.SGD(),\n",
    "                          metrics=[\"mae\"])\n",
    "\n",
    "history3=insurance_model_3.fit(X_train_normal, y_train, epochs = 200, verbose=0)"
   ]
  },
  {
   "cell_type": "code",
   "execution_count": 21,
   "metadata": {
    "colab": {
     "base_uri": "https://localhost:8080/"
    },
    "id": "bSZSRmuFIsPO",
    "outputId": "5425d336-77ff-4963-b6f0-581e3a814643"
   },
   "outputs": [
    {
     "name": "stdout",
     "output_type": "stream",
     "text": [
      "9/9 [==============================] - 0s 2ms/step - loss: 3503.2180 - mae: 3503.2180\n"
     ]
    },
    {
     "data": {
      "text/plain": [
       "[3503.218017578125, 3503.218017578125]"
      ]
     },
     "execution_count": 21,
     "metadata": {},
     "output_type": "execute_result"
    }
   ],
   "source": [
    "insurance_model_3.evaluate(X_test_normal,y_test)"
   ]
  },
  {
   "cell_type": "code",
   "execution_count": 22,
   "metadata": {
    "colab": {
     "base_uri": "https://localhost:8080/",
     "height": 296
    },
    "id": "t1xxT604IsMG",
    "outputId": "14841d3c-e719-4588-fc06-d4a8f91a6c41"
   },
   "outputs": [
    {
     "data": {
      "text/plain": [
       "Text(0.5, 0, 'Epochs')"
      ]
     },
     "execution_count": 22,
     "metadata": {},
     "output_type": "execute_result"
    },
    {
     "data": {
      "image/png": "[encoded data removed]",
      "text/plain": [
       "<Figure size 432x288 with 1 Axes>"
      ]
     },
     "metadata": {
      "needs_background": "light"
     },
     "output_type": "display_data"
    }
   ],
   "source": [
    "pd.DataFrame(history3.history).plot()\n",
    "plt.ylabel(\"Loss\")\n",
    "plt.xlabel(\"Epochs\")"
   ]
  },
  {
   "cell_type": "code",
   "execution_count": 23,
   "metadata": {
    "id": "BpL_LvwxIsI-"
   },
   "outputs": [],
   "source": [
    "tf.random.set_seed(42)\n",
    "\n",
    "insurance_model_4 = tf.keras.Sequential([\n",
    "    tf.keras.layers.Dense(100),\n",
    "    tf.keras.layers.Dense(50),\n",
    "    tf.keras.layers.Dense(10),\n",
    "    tf.keras.layers.Dense(1)\n",
    "])\n",
    "\n",
    "insurance_model_4.compile(loss= tf.keras.losses.mae,\n",
    "                          optimizer = tf.keras.optimizers.Adam(),\n",
    "                          metrics=['mae'])\n",
    "                 \n",
    "history4 = insurance_model_4.fit(X_train_normal, y_train, epochs=300, verbose=0)"
   ]
  },
  {
   "cell_type": "code",
   "execution_count": 24,
   "metadata": {
    "colab": {
     "base_uri": "https://localhost:8080/"
    },
    "id": "kz4rSi_MIsF2",
    "outputId": "5a054cf1-3284-4f24-a2b7-4da82b155804"
   },
   "outputs": [
    {
     "name": "stdout",
     "output_type": "stream",
     "text": [
      "9/9 [==============================] - 0s 2ms/step - loss: 3168.0264 - mae: 3168.0264\n"
     ]
    },
    {
     "data": {
      "text/plain": [
       "[3168.0263671875, 3168.0263671875]"
      ]
     },
     "execution_count": 24,
     "metadata": {},
     "output_type": "execute_result"
    }
   ],
   "source": [
    "insurance_model_4.evaluate(X_test_normal, y_test)"
   ]
  },
  {
   "cell_type": "code",
   "execution_count": 25,
   "metadata": {
    "colab": {
     "base_uri": "https://localhost:8080/",
     "height": 296
    },
    "id": "G-CY3jYMIsCv",
    "outputId": "7ceb6707-a47b-43ed-8e21-2c32a35b4c0e"
   },
   "outputs": [
    {
     "data": {
      "text/plain": [
       "Text(0.5, 0, 'Epochs')"
      ]
     },
     "execution_count": 25,
     "metadata": {},
     "output_type": "execute_result"
    },
    {
     "data": {
      "image/png": "[encoded data removed]",
      "text/plain": [
       "<Figure size 432x288 with 1 Axes>"
      ]
     },
     "metadata": {
      "needs_background": "light"
     },
     "output_type": "display_data"
    }
   ],
   "source": [
    "pd.DataFrame(history4.history).plot()\n",
    "plt.ylabel(\"Loss\")\n",
    "plt.xlabel(\"Epochs\")"
   ]
  },
  {
   "cell_type": "code",
   "execution_count": 26,
   "metadata": {
    "id": "XFUaBU9hIr_e"
   },
   "outputs": [],
   "source": [
    "tf.random.set_seed(42)\n",
    "\n",
    "insurance_model_5 = tf.keras.Sequential([\n",
    "    tf.keras.layers.Dense(100,activation='relu'),\n",
    "    tf.keras.layers.Dense(50,activation='relu'),\n",
    "    tf.keras.layers.Dense(10,activation='relu'),\n",
    "    tf.keras.layers.Dense(1,activation='relu')\n",
    "])\n",
    "\n",
    "insurance_model_5.compile(loss = tf.keras.losses.mae,\n",
    "                          optimizer = tf.keras.optimizers.Adam(learning_rate=0.1),\n",
    "                          metrics=['mae'])\n",
    "\n",
    "history5=insurance_model_5.fit(X_train_normal, y_train, epochs = 200, verbose=0)"
   ]
  },
  {
   "cell_type": "code",
   "execution_count": 27,
   "metadata": {
    "colab": {
     "base_uri": "https://localhost:8080/"
    },
    "id": "VOLlHK9kIr8G",
    "outputId": "6ecb1003-2db5-45be-fabd-a7d7f6f45138"
   },
   "outputs": [
    {
     "name": "stdout",
     "output_type": "stream",
     "text": [
      "9/9 [==============================] - 0s 2ms/step - loss: 1346.5050 - mae: 1346.5050\n"
     ]
    },
    {
     "data": {
      "text/plain": [
       "[1346.5050048828125, 1346.5050048828125]"
      ]
     },
     "execution_count": 27,
     "metadata": {},
     "output_type": "execute_result"
    }
   ],
   "source": [
    "insurance_model_5.evaluate(X_test_normal, y_test)"
   ]
  },
  {
   "cell_type": "code",
   "execution_count": 28,
   "metadata": {
    "colab": {
     "base_uri": "https://localhost:8080/",
     "height": 296
    },
    "id": "010ZzHIeIr44",
    "outputId": "b3036126-d0cb-4777-a430-51fd73a5c0db"
   },
   "outputs": [
    {
     "data": {
      "text/plain": [
       "Text(0.5, 0, 'Epochs')"
      ]
     },
     "execution_count": 28,
     "metadata": {},
     "output_type": "execute_result"
    },
    {
     "data": {
      "image/png": "[encoded data removed]",
      "text/plain": [
       "<Figure size 432x288 with 1 Axes>"
      ]
     },
     "metadata": {
      "needs_background": "light"
     },
     "output_type": "display_data"
    }
   ],
   "source": [
    "pd.DataFrame(history5.history).plot()\n",
    "plt.ylabel(\"Loss\")\n",
    "plt.xlabel(\"Epochs\")"
   ]
  }
 ],
 "metadata": {
  "colab": {
   "provenance": []
  },
  "kernelspec": {
   "display_name": "Python 3 (ipykernel)",
   "language": "python",
   "name": "python3"
  },
  "language_info": {
   "codemirror_mode": {
    "name": "ipython",
    "version": 3
   },
   "file_extension": ".py",
   "mimetype": "text/x-python",
   "name": "python",
   "nbconvert_exporter": "python",
   "pygments_lexer": "ipython3",
   "version": "3.9.7"
  }
 },
 "nbformat": 4,
 "nbformat_minor": 1
}
